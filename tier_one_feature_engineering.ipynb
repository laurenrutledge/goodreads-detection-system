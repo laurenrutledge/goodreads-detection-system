{
 "cells": [
  {
   "cell_type": "code",
   "id": "initial_id",
   "metadata": {
    "collapsed": true,
    "ExecuteTime": {
     "end_time": "2025-07-22T21:51:18.986075Z",
     "start_time": "2025-07-22T21:51:18.612594Z"
    }
   },
   "source": [
    "import pandas as pd\n",
    "import re\n",
    "import os\n",
    "\n",
    "file_path_1 = 'datasets/raw/goodreads_reviews_mystery_thriller_crime.json'\n",
    "\n",
    "# Extract genre from the filename; ex: \"goodreads_reviews_mystery_thriller_crime.json\"\n",
    "base_name_1 = os.path.basename(file_path_1)\n",
    "genre_1 = os.path.splitext(base_name_1)[0].replace('goodreads_reviews_', '')\n",
    "\n",
    "print(\"Extracted genre:\", genre_1)"
   ],
   "outputs": [
    {
     "name": "stdout",
     "output_type": "stream",
     "text": [
      "Extracted genre: mystery_thriller_crime\n"
     ]
    }
   ],
   "execution_count": 1
  },
  {
   "metadata": {},
   "cell_type": "markdown",
   "source": "## Read in Cleaned Data CSV: ",
   "id": "854f54ac9df59fc5"
  },
  {
   "metadata": {
    "ExecuteTime": {
     "end_time": "2025-07-22T21:51:33.208571Z",
     "start_time": "2025-07-22T21:51:24.944274Z"
    }
   },
   "cell_type": "code",
   "source": [
    "df = pd.read_csv('datasets/cleaned/goodreads_reviews_mystery_thriller_crime_clean.csv')\n",
    "\n",
    "print(\"Post-Data Clean row count:\", len(df),\"\\n\")\n",
    "print(df.head())\n"
   ],
   "id": "5821546727d403d1",
   "outputs": [
    {
     "name": "stdout",
     "output_type": "stream",
     "text": [
      "Post-Data Clean row count: 1685280 \n",
      "\n",
      "                            user_id                         review_id  \\\n",
      "0  8842281e1d1347389f2ab93d60773d4d  5e212a62bced17b4dbe41150e5bb9037   \n",
      "1  8842281e1d1347389f2ab93d60773d4d  2ede853b14dc4583f96cf5d120af636f   \n",
      "2  8842281e1d1347389f2ab93d60773d4d  022bb6daffa49adc27f6b20b6ebeb37d   \n",
      "3  8842281e1d1347389f2ab93d60773d4d  0e317947e1fd341f573192111bb2921d   \n",
      "4  8842281e1d1347389f2ab93d60773d4d  4276918357312212384ac6415ceb9159   \n",
      "\n",
      "                                         review_text  rating  \\\n",
      "0  I haven't read a fun mystery book in a while a...       3   \n",
      "1  A fun, fast paced science fiction thriller. I ...       3   \n",
      "2  An amazing and unique creation: JJ Abrams and ...       4   \n",
      "3  The Name of the Rose is a thrilling Dan Brown-...       3   \n",
      "4  ** spoiler alert ** \\n Hooked me equally as we...       3   \n",
      "\n",
      "                       date_added  n_votes  \n",
      "0  Mon Jul 24 02:48:17 -0700 2017        6  \n",
      "1  Tue Nov 15 11:29:22 -0800 2016       22  \n",
      "2  Wed Mar 26 13:51:30 -0700 2014        7  \n",
      "3  Wed Sep 08 01:22:27 -0700 2010       17  \n",
      "4  Mon Mar 29 15:54:28 -0700 2010        1  \n"
     ]
    }
   ],
   "execution_count": 2
  },
  {
   "metadata": {},
   "cell_type": "markdown",
   "source": "## Determine which rows have link in it - Add link data to Dataset",
   "id": "789f7c75edee0d40"
  },
  {
   "metadata": {
    "ExecuteTime": {
     "end_time": "2025-07-22T21:51:51.104696Z",
     "start_time": "2025-07-22T21:51:51.101318Z"
    }
   },
   "cell_type": "code",
   "source": [
    "# Determine which rows have a review that contain a link. This could be potential spam or fraud links, and therefore, these reviews should be removed from the platform: \n",
    "def review_has_link(text):\n",
    "    \"\"\"\n",
    "    This function determines whether the free-form text in the review contains a link within the text or not. \n",
    "    The function then flags whether or not it does, by adding a column to the original dataset containing boolean data regarding whether there \"is_link\" or not\n",
    "    \n",
    "    :param text: the string pulled from the 'review_text' column\n",
    "    :return: \n",
    "    \"\"\"\n",
    "    if pd.isna(text) or not isinstance(text, str):\n",
    "        return False\n",
    "    \n",
    "    link_patterns_regex = [\n",
    "    r'http[s]?://[^\\s]+',   # http:// or https://\n",
    "    r'www\\.[^\\s]+',         # www.something\n",
    "    r'\\b[^\\s]+\\.com\\b',     # something.com as a whole word\n",
    "    r'\\b[^\\s]+\\.org\\b',     # something.org as a whole word\n",
    "    r'\\b[^\\s]+\\.net\\b',     # something.net as a whole word\n",
    "    ]\n",
    "    \n",
    "    # Combine all patterns into one OR pattern\n",
    "    combined_pattern = \"|\".join(link_patterns_regex)\n",
    "    \n",
    "    # Search for any link-like pattern in the text of the review for each review\n",
    "    return bool(re.search(combined_pattern, text, flags=re.IGNORECASE))\n",
    "    "
   ],
   "id": "c993d0db725ae44e",
   "outputs": [],
   "execution_count": 3
  },
  {
   "metadata": {
    "ExecuteTime": {
     "end_time": "2025-07-22T21:53:02.572791Z",
     "start_time": "2025-07-22T21:51:55.524902Z"
    }
   },
   "cell_type": "code",
   "source": [
    "# Apply the function to create a new column\n",
    "df['contains_link'] = df['review_text'].apply(review_has_link)\n",
    "\n",
    "# Inspect how many rows contain links\n",
    "print(\"Number of reviews containing links:\", df['contains_link'].sum())\n",
    "print(df[['review_text', 'contains_link']].head())\n",
    "\n",
    "# Save the dataset with the new column\n",
    "output_path = f\"datasets/processed/goodreads_reviews_{genre_1}_with_links_flag.csv\"\n",
    "df.to_csv(output_path, index=False)\n",
    "print(f\"Saved dataset with 'contains_link' column to: {output_path}\")"
   ],
   "id": "6f88ccd58d417411",
   "outputs": [
    {
     "name": "stdout",
     "output_type": "stream",
     "text": [
      "Number of reviews containing links: 51380\n",
      "                                         review_text  contains_link\n",
      "0  I haven't read a fun mystery book in a while a...          False\n",
      "1  A fun, fast paced science fiction thriller. I ...          False\n",
      "2  An amazing and unique creation: JJ Abrams and ...          False\n",
      "3  The Name of the Rose is a thrilling Dan Brown-...          False\n",
      "4  ** spoiler alert ** \\n Hooked me equally as we...          False\n",
      "Saved dataset with 'contains_link' column to: datasets/processed/goodreads_reviews_mystery_thriller_crime_with_links_flag.csv\n"
     ]
    }
   ],
   "execution_count": 4
  },
  {
   "metadata": {},
   "cell_type": "markdown",
   "source": "## Print sample lines where there are links to confirm validity of flag ",
   "id": "10be689c75f26d1b"
  },
  {
   "metadata": {
    "ExecuteTime": {
     "end_time": "2025-07-22T21:53:10.976757Z",
     "start_time": "2025-07-22T21:53:10.957046Z"
    }
   },
   "cell_type": "code",
   "source": [
    "# Show the first 5 rows that have links\n",
    "print(df[df['contains_link']][['review_text', 'contains_link']].head())"
   ],
   "id": "3f46bc464bb13ab",
   "outputs": [
    {
     "name": "stdout",
     "output_type": "stream",
     "text": [
      "                                           review_text  contains_link\n",
      "305  FIVE-STAR CLARION REVIEW: \"An Ordinary Tragedy...           True\n",
      "403  Key to a Murder by Vicki Vass is a cozy myster...           True\n",
      "404  Didn't see this one coming! \\n The Corpse with...           True\n",
      "409  A continuation of the Cait Morgan Mysteries, T...           True\n",
      "416  Note: I received an Advanced Readers' Copy (AR...           True\n"
     ]
    }
   ],
   "execution_count": 5
  },
  {
   "metadata": {
    "ExecuteTime": {
     "end_time": "2025-07-22T02:20:32.091129Z",
     "start_time": "2025-07-22T02:20:32.089868Z"
    }
   },
   "cell_type": "code",
   "source": "",
   "id": "1beff9266349eddf",
   "outputs": [],
   "execution_count": null
  }
 ],
 "metadata": {
  "kernelspec": {
   "display_name": "Python 3",
   "language": "python",
   "name": "python3"
  },
  "language_info": {
   "codemirror_mode": {
    "name": "ipython",
    "version": 2
   },
   "file_extension": ".py",
   "mimetype": "text/x-python",
   "name": "python",
   "nbconvert_exporter": "python",
   "pygments_lexer": "ipython2",
   "version": "2.7.6"
  }
 },
 "nbformat": 4,
 "nbformat_minor": 5
}
