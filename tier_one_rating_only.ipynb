{
 "cells": [
  {
   "cell_type": "code",
   "id": "initial_id",
   "metadata": {
    "collapsed": true,
    "ExecuteTime": {
     "end_time": "2025-07-22T06:21:52.510225Z",
     "start_time": "2025-07-22T06:21:52.506858Z"
    }
   },
   "source": [
    "import pandas as pd\n",
    "import os\n",
    "\n",
    "file_path_1 = 'datasets/raw/goodreads_reviews_mystery_thriller_crime.json'\n",
    "\n",
    "# Extract genre from the filename; ex: \"goodreads_reviews_mystery_thriller_crime.json\"\n",
    "base_name_1 = os.path.basename(file_path_1)\n",
    "genre_1 = os.path.splitext(base_name_1)[0].replace('goodreads_reviews_', '')\n",
    "\n",
    "print(\"Extracted genre:\", genre_1)"
   ],
   "outputs": [
    {
     "name": "stdout",
     "output_type": "stream",
     "text": [
      "Extracted genre: mystery_thriller_crime\n"
     ]
    }
   ],
   "execution_count": 6
  },
  {
   "metadata": {},
   "cell_type": "markdown",
   "source": "## Read in Cleaned Data CSV: ",
   "id": "42f486199e9e63f2"
  },
  {
   "metadata": {
    "ExecuteTime": {
     "end_time": "2025-07-22T06:22:00.811826Z",
     "start_time": "2025-07-22T06:21:52.519604Z"
    }
   },
   "cell_type": "code",
   "source": [
    "df = pd.read_csv('datasets/processed/goodreads_reviews_mystery_thriller_crime_with_links_flag.csv')\n",
    "\n",
    "print(\"Post-Data Clean row count:\", len(df),\"\\n\")\n",
    "print(df.head())\n"
   ],
   "id": "70ef94db89a1bf4a",
   "outputs": [
    {
     "name": "stdout",
     "output_type": "stream",
     "text": [
      "Post-Data Clean row count: 1685571 \n",
      "\n",
      "                            user_id                         review_id  \\\n",
      "0  8842281e1d1347389f2ab93d60773d4d  5e212a62bced17b4dbe41150e5bb9037   \n",
      "1  8842281e1d1347389f2ab93d60773d4d  2ede853b14dc4583f96cf5d120af636f   \n",
      "2  8842281e1d1347389f2ab93d60773d4d  022bb6daffa49adc27f6b20b6ebeb37d   \n",
      "3  8842281e1d1347389f2ab93d60773d4d  0e317947e1fd341f573192111bb2921d   \n",
      "4  8842281e1d1347389f2ab93d60773d4d  4276918357312212384ac6415ceb9159   \n",
      "\n",
      "                                         review_text  rating  \\\n",
      "0  I haven't read a fun mystery book in a while a...       3   \n",
      "1  A fun, fast paced science fiction thriller. I ...       3   \n",
      "2  An amazing and unique creation: JJ Abrams and ...       4   \n",
      "3  The Name of the Rose is a thrilling Dan Brown-...       3   \n",
      "4  ** spoiler alert ** \\n Hooked me equally as we...       3   \n",
      "\n",
      "                       date_added  n_votes  contains_link  \n",
      "0  Mon Jul 24 02:48:17 -0700 2017        6          False  \n",
      "1  Tue Nov 15 11:29:22 -0800 2016       22          False  \n",
      "2  Wed Mar 26 13:51:30 -0700 2014        7          False  \n",
      "3  Wed Sep 08 01:22:27 -0700 2010       17          False  \n",
      "4  Mon Mar 29 15:54:28 -0700 2010        1          False  \n"
     ]
    }
   ],
   "execution_count": 7
  },
  {
   "metadata": {},
   "cell_type": "markdown",
   "source": "## Determine which rows have a rating but no text review",
   "id": "732590407af466e6"
  },
  {
   "metadata": {
    "ExecuteTime": {
     "end_time": "2025-07-22T06:22:00.876947Z",
     "start_time": "2025-07-22T06:22:00.874972Z"
    }
   },
   "cell_type": "code",
   "source": [
    "# Determine which rows have a rating but no text review\n",
    "def rating_but_no_review(text, rating):\n",
    "    \"\"\"\n",
    "    Returns True if the review has a valid rating but the review text is empty or whitespace.\n",
    "    \n",
    "    :param text: the string pulled from the 'review_text' column\n",
    "    :param rating: the numeric rating\n",
    "    :return: boolean\n",
    "    \"\"\"\n",
    "    # Check rating\n",
    "    if pd.isna(rating) or rating <= 0:\n",
    "        return False  # no rating or invalid rating\n",
    "    \n",
    "    # Check text\n",
    "    if pd.isna(text):\n",
    "        return True  # rating exists but text is NaN\n",
    "    \n",
    "    # Normalize text\n",
    "    if isinstance(text, str):\n",
    "        text = text.strip()  # remove spaces, tabs, newlines from both ends\n",
    "        return text == ''  # True if empty after stripping\n",
    "    else:\n",
    "        return True  # if somehow not a string, treat as empty\n",
    "    "
   ],
   "id": "3f0306b05fc4410d",
   "outputs": [],
   "execution_count": 8
  },
  {
   "metadata": {
    "ExecuteTime": {
     "end_time": "2025-07-22T06:34:18.858779Z",
     "start_time": "2025-07-22T06:34:18.414707Z"
    }
   },
   "cell_type": "code",
   "source": [
    "# Normalize text first\n",
    "df['review_text'] = df['review_text'].fillna('').astype(str).str.strip()\n",
    "\n",
    "# Build conditions\n",
    "has_rating = df['rating'].notna() & (df['rating'] > 0)\n",
    "no_text = df['review_text'] == ''\n",
    "\n",
    "df['rating_no_review'] = has_rating & no_text\n",
    "\n",
    "\n",
    "# Inspect how many\n",
    "print(\"Number of reviews with a rating but no text review:\", df['rating_no_review'].sum())\n",
    "print(df[df['rating_no_review']].head())"
   ],
   "id": "c69fe6c3c6a00576",
   "outputs": [
    {
     "name": "stdout",
     "output_type": "stream",
     "text": [
      "Number of reviews with a rating but no text review: 291\n",
      "                                user_id                         review_id  \\\n",
      "17045  fea9b0a54f57f9be780c4e8404b388fb  3bf140bf5aa19174db227f970e9f3fdf   \n",
      "25011  acea1d6a9e2df9c268fc65d6816909df  4bf0d1942bcf8e21edae732fef4608f2   \n",
      "27532  82806811a06d3f90defce2254845533d  2ee1326a399e7bc363804a5a97043898   \n",
      "34832  e6d58522010659d7b1dba59eda9c9be6  ffe45791cb44946bb4e190fa9c2b8eb7   \n",
      "64544  785d9ac97b87aebef15d20a6e3d11ae9  36877ae8faaa8158a7ca689a3b6a5b7d   \n",
      "\n",
      "      review_text  rating                      date_added  n_votes  \\\n",
      "17045                   2  Sun Mar 10 16:49:45 -0700 2013        2   \n",
      "25011                   3  Sun Nov 18 14:16:11 -0800 2012        0   \n",
      "27532                   4  Wed Sep 30 10:16:13 -0700 2015        0   \n",
      "34832                   4  Sun Aug 18 18:22:29 -0700 2013        0   \n",
      "64544                   1  Sat Jun 28 09:40:06 -0700 2014       21   \n",
      "\n",
      "       contains_link  rating_no_review  plagiarized_exact  \n",
      "17045          False              True              False  \n",
      "25011          False              True              False  \n",
      "27532          False              True              False  \n",
      "34832          False              True              False  \n",
      "64544          False              True              False  \n"
     ]
    }
   ],
   "execution_count": 14
  },
  {
   "metadata": {
    "ExecuteTime": {
     "end_time": "2025-07-22T06:22:15.023869Z",
     "start_time": "2025-07-22T06:22:05.091194Z"
    }
   },
   "cell_type": "code",
   "source": [
    "# Save the dataset with another new column for rating and no reviews \n",
    "output_path = f\"datasets/processed/goodreads_reviews_{genre_1}_with_links_flag_and_no_reviews_flag.csv\"\n",
    "df.to_csv(output_path, index=False)\n",
    "print(f\"Saved dataset with 'contains_link' AND 'rating_no_reviews columns to: {output_path}\")"
   ],
   "id": "22c992e53184fdf5",
   "outputs": [
    {
     "name": "stdout",
     "output_type": "stream",
     "text": [
      "Saved dataset with 'contains_link' column to: datasets/processed/goodreads_reviews_mystery_thriller_crime_with_links_flag_and_no_reviews_flag.csv\n"
     ]
    }
   ],
   "execution_count": 10
  }
 ],
 "metadata": {
  "kernelspec": {
   "display_name": "Python 3",
   "language": "python",
   "name": "python3"
  },
  "language_info": {
   "codemirror_mode": {
    "name": "ipython",
    "version": 2
   },
   "file_extension": ".py",
   "mimetype": "text/x-python",
   "name": "python",
   "nbconvert_exporter": "python",
   "pygments_lexer": "ipython2",
   "version": "2.7.6"
  }
 },
 "nbformat": 4,
 "nbformat_minor": 5
}
