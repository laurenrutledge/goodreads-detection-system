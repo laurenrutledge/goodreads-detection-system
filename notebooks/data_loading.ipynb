{
 "cells": [
  {
   "metadata": {},
   "cell_type": "markdown",
   "source": "# Load Dataset - Mysteries, Thrillers, & Crimes",
   "id": "90e743c3e278b491"
  },
  {
   "metadata": {
    "ExecuteTime": {
     "end_time": "2025-07-22T21:21:14.099540Z",
     "start_time": "2025-07-22T21:21:12.636732Z"
    }
   },
   "cell_type": "code",
   "source": "pip install langdetect",
   "id": "319a8f583a45c163",
   "outputs": [
    {
     "name": "stdout",
     "output_type": "stream",
     "text": [
      "Requirement already satisfied: langdetect in /opt/anaconda3/lib/python3.12/site-packages (1.0.9)\r\n",
      "Requirement already satisfied: six in /opt/anaconda3/lib/python3.12/site-packages (from langdetect) (1.17.0)\r\n",
      "Note: you may need to restart the kernel to use updated packages.\n"
     ]
    }
   ],
   "execution_count": 1
  },
  {
   "metadata": {
    "collapsed": true,
    "ExecuteTime": {
     "end_time": "2025-07-22T21:21:14.581631Z",
     "start_time": "2025-07-22T21:21:14.105384Z"
    }
   },
   "cell_type": "code",
   "source": [
    "import pandas as pd\n",
    "import os\n",
    "from langdetect import detect, DetectorFactory\n",
    "DetectorFactory.seed = 0  # make results deterministic\n",
    "\n",
    "file_path_1 = 'datasets/raw/goodreads_reviews_mystery_thriller_crime.json'\n",
    "\n",
    "# Extract genre from the filename; ex: \"goodreads_reviews_mystery_thriller_crime.json\"\n",
    "base_name_1 = os.path.basename(file_path_1)\n",
    "genre = os.path.splitext(base_name_1)[0].replace('goodreads_reviews_', '')\n",
    "\n",
    "print(\"Extracted genre:\", genre)"
   ],
   "id": "initial_id",
   "outputs": [
    {
     "name": "stdout",
     "output_type": "stream",
     "text": [
      "Extracted genre: mystery_thriller_crime\n"
     ]
    }
   ],
   "execution_count": 2
  },
  {
   "metadata": {
    "ExecuteTime": {
     "end_time": "2025-07-22T21:21:30.987295Z",
     "start_time": "2025-07-22T21:21:14.611783Z"
    }
   },
   "cell_type": "code",
   "source": [
    "# Load JSON Lines\n",
    "df = pd.read_json(file_path_1, lines=True)\n",
    "\n",
    "# Keep only needed columns\n",
    "required_columns = ['user_id', 'review_id','review_text', 'rating', 'date_added', 'n_votes']\n",
    "df = df[required_columns]\n",
    "\n",
    "print(df.head())\n",
    "\n",
    "# Print initial count of rows: \n",
    "print(\"Initial row count:\", len(df))"
   ],
   "id": "abc16d121e628282",
   "outputs": [
    {
     "name": "stdout",
     "output_type": "stream",
     "text": [
      "                            user_id                         review_id  \\\n",
      "0  8842281e1d1347389f2ab93d60773d4d  5e212a62bced17b4dbe41150e5bb9037   \n",
      "1  8842281e1d1347389f2ab93d60773d4d  2ede853b14dc4583f96cf5d120af636f   \n",
      "2  8842281e1d1347389f2ab93d60773d4d  8e4d61801907e591018bdc3442a9cf2b   \n",
      "3  8842281e1d1347389f2ab93d60773d4d  022bb6daffa49adc27f6b20b6ebeb37d   \n",
      "4  8842281e1d1347389f2ab93d60773d4d  0e317947e1fd341f573192111bb2921d   \n",
      "\n",
      "                                         review_text  rating  \\\n",
      "0  I haven't read a fun mystery book in a while a...       3   \n",
      "1  A fun, fast paced science fiction thriller. I ...       3   \n",
      "2           http://www.telegraph.co.uk/culture/10...       0   \n",
      "3  An amazing and unique creation: JJ Abrams and ...       4   \n",
      "4  The Name of the Rose is a thrilling Dan Brown-...       3   \n",
      "\n",
      "                       date_added  n_votes  \n",
      "0  Mon Jul 24 02:48:17 -0700 2017        6  \n",
      "1  Tue Nov 15 11:29:22 -0800 2016       22  \n",
      "2  Tue Nov 01 11:09:18 -0700 2016        9  \n",
      "3  Wed Mar 26 13:51:30 -0700 2014        7  \n",
      "4  Wed Sep 08 01:22:27 -0700 2010       17  \n",
      "Initial row count: 1849236\n"
     ]
    }
   ],
   "execution_count": 3
  },
  {
   "metadata": {},
   "cell_type": "markdown",
   "source": "# Clean Up Data",
   "id": "8c033ea7278c7558"
  },
  {
   "metadata": {},
   "cell_type": "markdown",
   "source": "### Filter out rows where review_text is null/empty/only whitespace. This is not free-text, so review is out of scope\n",
   "id": "42f69548dc64d6e2"
  },
  {
   "metadata": {
    "ExecuteTime": {
     "end_time": "2025-07-22T21:21:31.709921Z",
     "start_time": "2025-07-22T21:21:31.070299Z"
    }
   },
   "cell_type": "code",
   "source": [
    "# Filter out rows where review_text is null/empty/only whitespace\n",
    "df = df[df['review_text'].notnull()]\n",
    "df = df[df['review_text'].str.strip() != '']"
   ],
   "id": "b00f99fae6a2e075",
   "outputs": [],
   "execution_count": 4
  },
  {
   "metadata": {},
   "cell_type": "markdown",
   "source": "### Each Entry must have: user_id, review_id, date_added",
   "id": "bea84e5597bc0c7"
  },
  {
   "metadata": {
    "ExecuteTime": {
     "end_time": "2025-07-22T21:21:32.165967Z",
     "start_time": "2025-07-22T21:21:31.714664Z"
    }
   },
   "cell_type": "code",
   "source": [
    "# If user_id, review_id, date_added filling is empty, remove them from the dataset. \n",
    "df = df.dropna(subset=['user_id', 'review_id', 'date_added'])\n",
    "\n",
    "# Print new count of rows to confirm: \n",
    "print(\"Pre-Data Clean row count:\", len(df))\n"
   ],
   "id": "d2e6bab96c307822",
   "outputs": [
    {
     "name": "stdout",
     "output_type": "stream",
     "text": [
      "Pre-Data Clean row count: 1848852\n"
     ]
    }
   ],
   "execution_count": 5
  },
  {
   "metadata": {},
   "cell_type": "markdown",
   "source": "### Remove Duplicate Reviews -- Tech Error (same user_id, review_id, and review_text)",
   "id": "71b1dc52ccb04c94"
  },
  {
   "metadata": {
    "ExecuteTime": {
     "end_time": "2025-07-22T21:21:37.290518Z",
     "start_time": "2025-07-22T21:21:32.171215Z"
    }
   },
   "cell_type": "code",
   "source": [
    "# Remove Duplicate Reviews (error on Goodreads End - flag to tech - Separate From Data Quality of reviews) \n",
    "df = df.drop_duplicates(subset=['user_id', 'review_id', 'review_text'])"
   ],
   "id": "8c15a3da435ad100",
   "outputs": [],
   "execution_count": 6
  },
  {
   "metadata": {},
   "cell_type": "markdown",
   "source": "# Remove Reviews that contain text that is not in English - Not in scope, though tailoring to non-English reviews could be future work\n",
   "id": "fd758edf0d2163d0"
  },
  {
   "metadata": {
    "ExecuteTime": {
     "end_time": "2025-07-22T21:50:14.378667Z",
     "start_time": "2025-07-22T21:21:37.295394Z"
    }
   },
   "cell_type": "code",
   "source": [
    "# Remove Reviews that contain text that is not in English - Though tailoring to non-English reviews could be future work\n",
    "\n",
    "def review_is_english(text):\n",
    "    \"\"\"\n",
    "    Returns True if the first 200 chars of the text review is detected as English ('en').\n",
    "    Empty strings are considered False (but your earlier mask already handles them).\n",
    "    \"\"\"\n",
    "    # only pass the first 200 characters for detection to speed performance\n",
    "    if not text or text.isspace():\n",
    "        return True\n",
    "    try:\n",
    "        sample = text[:200]  # limit to first 200 chars\n",
    "        return detect(sample) == 'en'\n",
    "    except:\n",
    "        return False\n",
    "    \n",
    "# Apply language detection only to rows with review_text\n",
    "print(\"Detecting languages... (this may take a while for large datasets)\")\n",
    "\n",
    "mask_english = df['review_text'].apply(review_is_english)\n",
    "df_clean = df[mask_english]\n",
    "\n",
    "print(\"Post-Data Clean row count:\", len(df_clean))"
   ],
   "id": "d4941c6f50ef683",
   "outputs": [
    {
     "name": "stdout",
     "output_type": "stream",
     "text": [
      "Detecting languages... (this may take a while for large datasets)\n",
      "Post-Data Clean row count: 1685280\n"
     ]
    }
   ],
   "execution_count": 7
  },
  {
   "metadata": {},
   "cell_type": "markdown",
   "source": "# Save Cleaned Data",
   "id": "f3c84c7db193ef1d"
  },
  {
   "metadata": {
    "ExecuteTime": {
     "end_time": "2025-07-22T21:50:24.574799Z",
     "start_time": "2025-07-22T21:50:14.388157Z"
    }
   },
   "cell_type": "code",
   "source": [
    "# Save cleaned CSV with genre in filename\n",
    "output_path = f\"datasets/cleaned/goodreads_reviews_{genre}_clean.csv\"\n",
    "\n",
    "df_clean.to_csv(output_path, index=False)\n",
    "\n",
    "print(f\"Saved cleaned CSV to: {output_path}\")\n"
   ],
   "id": "aad796fecfb5be64",
   "outputs": [
    {
     "name": "stdout",
     "output_type": "stream",
     "text": [
      "Saved cleaned CSV to: datasets/cleaned/goodreads_reviews_mystery_thriller_crime_clean.csv\n"
     ]
    }
   ],
   "execution_count": 8
  }
 ],
 "metadata": {
  "kernelspec": {
   "display_name": "Python 3",
   "language": "python",
   "name": "python3"
  },
  "language_info": {
   "codemirror_mode": {
    "name": "ipython",
    "version": 2
   },
   "file_extension": ".py",
   "mimetype": "text/x-python",
   "name": "python",
   "nbconvert_exporter": "python",
   "pygments_lexer": "ipython2",
   "version": "2.7.6"
  }
 },
 "nbformat": 4,
 "nbformat_minor": 5
}
