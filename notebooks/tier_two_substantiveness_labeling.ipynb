{
 "cells": [
  {
   "metadata": {
    "ExecuteTime": {
     "end_time": "2025-07-24T08:00:57.257657Z",
     "start_time": "2025-07-24T08:00:57.253893Z"
    }
   },
   "cell_type": "code",
   "source": "import pandas as pd",
   "id": "831ad0bbc60e3df8",
   "outputs": [],
   "execution_count": 98
  },
  {
   "metadata": {
    "collapsed": true,
    "ExecuteTime": {
     "end_time": "2025-07-24T08:01:06.218083Z",
     "start_time": "2025-07-24T08:00:57.262892Z"
    }
   },
   "cell_type": "code",
   "source": [
    "df = pd.read_csv('datasets/processed/goodreads_reviews_with_nlp_features_substantiveness.csv')\n",
    "\n",
    "print(\"Post-Data Clean row count:\", len(df),\"\\n\")\n",
    "print(df.head())"
   ],
   "id": "initial_id",
   "outputs": [
    {
     "name": "stdout",
     "output_type": "stream",
     "text": [
      "Post-Data Clean row count: 1685280 \n",
      "\n",
      "                            user_id                         review_id  \\\n",
      "0  8842281e1d1347389f2ab93d60773d4d  5e212a62bced17b4dbe41150e5bb9037   \n",
      "1  8842281e1d1347389f2ab93d60773d4d  2ede853b14dc4583f96cf5d120af636f   \n",
      "2  8842281e1d1347389f2ab93d60773d4d  022bb6daffa49adc27f6b20b6ebeb37d   \n",
      "3  8842281e1d1347389f2ab93d60773d4d  0e317947e1fd341f573192111bb2921d   \n",
      "4  8842281e1d1347389f2ab93d60773d4d  4276918357312212384ac6415ceb9159   \n",
      "\n",
      "                                         review_text  rating  \\\n",
      "0  I haven't read a fun mystery book in a while a...       3   \n",
      "1  A fun, fast paced science fiction thriller. I ...       3   \n",
      "2  An amazing and unique creation: JJ Abrams and ...       4   \n",
      "3  The Name of the Rose is a thrilling Dan Brown-...       3   \n",
      "4  ** spoiler alert ** \\n Hooked me equally as we...       3   \n",
      "\n",
      "                       date_added  n_votes  contains_link  sentence_count  \\\n",
      "0  Mon Jul 24 02:48:17 -0700 2017        6          False               7   \n",
      "1  Tue Nov 15 11:29:22 -0800 2016       22          False              35   \n",
      "2  Wed Mar 26 13:51:30 -0700 2014        7          False              23   \n",
      "3  Wed Sep 08 01:22:27 -0700 2010       17          False              21   \n",
      "4  Mon Mar 29 15:54:28 -0700 2010        1          False               5   \n",
      "\n",
      "   avg_words_per_sentence  word_count  lexical_diversity  \n",
      "0               14.142857          99           0.705882  \n",
      "1               15.485714         542           0.486900  \n",
      "2               23.478261         540           0.486141  \n",
      "3               19.904762         418           0.556452  \n",
      "4               18.400000          92           0.759494  \n"
     ]
    }
   ],
   "execution_count": 99
  },
  {
   "metadata": {},
   "cell_type": "markdown",
   "source": "### Since tier two, remove all entries that contain a link, focus on entries without link for quality detection",
   "id": "785abc3c0a6e9a5a"
  },
  {
   "metadata": {
    "ExecuteTime": {
     "end_time": "2025-07-24T08:01:06.620617Z",
     "start_time": "2025-07-24T08:01:06.284002Z"
    }
   },
   "cell_type": "code",
   "source": [
    "# Remove entries with links (Tier 1)\n",
    "df = df[df['contains_link'] == False].copy()\n",
    "print(\"After removing link-containing entries:\", len(df))\n",
    "\n",
    "print(df[[\"n_votes\", \"sentence_count\",\"avg_words_per_sentence\",\"word_count\",\"lexical_diversity\"]].describe())\n",
    "\n",
    "        "
   ],
   "id": "76bd06d572fab6dd",
   "outputs": [
    {
     "name": "stdout",
     "output_type": "stream",
     "text": [
      "After removing link-containing entries: 1633900\n",
      "            n_votes  sentence_count  avg_words_per_sentence    word_count  \\\n",
      "count  1.633900e+06    1.633900e+06            1.633900e+06  1.633900e+06   \n",
      "mean   1.042780e+00    7.103820e+00            1.703895e+01  1.319058e+02   \n",
      "std    6.195860e+00    8.344157e+00            8.904341e+00  1.711560e+02   \n",
      "min   -3.000000e+00    1.000000e+00            1.000000e+00  1.000000e+00   \n",
      "25%    0.000000e+00    2.000000e+00            1.166667e+01  3.000000e+01   \n",
      "50%    0.000000e+00    4.000000e+00            1.625000e+01  7.100000e+01   \n",
      "75%    0.000000e+00    9.000000e+00            2.111765e+01  1.660000e+02   \n",
      "max    9.040000e+02    3.940000e+02            1.537000e+03  4.641000e+03   \n",
      "\n",
      "       lexical_diversity  \n",
      "count       1.633900e+06  \n",
      "mean        7.718246e-01  \n",
      "std         1.512935e-01  \n",
      "min         0.000000e+00  \n",
      "25%         6.567164e-01  \n",
      "50%         7.727273e-01  \n",
      "75%         8.936170e-01  \n",
      "max         1.000000e+00  \n"
     ]
    }
   ],
   "execution_count": 100
  },
  {
   "metadata": {
    "ExecuteTime": {
     "end_time": "2025-07-24T08:01:06.659039Z",
     "start_time": "2025-07-24T08:01:06.640314Z"
    }
   },
   "cell_type": "code",
   "source": [
    "# Add extra engineered (combined) features for better modeling: \n",
    "\n",
    "# Interaction features\n",
    "df['sentence_word_interaction'] = df['sentence_count'] * df['word_count']\n",
    "df['sentence_avgword_interaction'] = df['sentence_count'] * df['avg_words_per_sentence']\n",
    "df['lexical_sentence_interaction'] = df['lexical_diversity'] * df['sentence_count']\n",
    "\n",
    "# Ratio-based features\n",
    "df['words_per_sentence_ratio'] = df['word_count'] / (df['sentence_count'] + 1e-5)\n",
    "df['unique_words_per_sentence'] = (df['lexical_diversity'] * df['word_count']) / (df['sentence_count'] + 1e-5)\n"
   ],
   "id": "8208ee87fb5789b1",
   "outputs": [],
   "execution_count": 101
  },
  {
   "metadata": {
    "ExecuteTime": {
     "end_time": "2025-07-24T08:01:16.546928Z",
     "start_time": "2025-07-24T08:01:06.665028Z"
    }
   },
   "cell_type": "code",
   "source": [
    "def assign_substantiveness_label(row):\n",
    "    sc = row['sentence_count']\n",
    "    awps = row['avg_words_per_sentence']\n",
    "    wc = row['word_count']\n",
    "    ld = row['lexical_diversity']\n",
    "    nv = row['n_votes']\n",
    "\n",
    "    # Highest priority (5): way above 75th percentile on most metrics\n",
    "    if sc > 3 and wc > 60 and awps > 13 and ld > 0.675 and nv >= 0:\n",
    "        return 5\n",
    "\n",
    "    # High priority (4): above 75th percentile on most metrics\n",
    "    if sc > 3 and wc > 40 and awps > 11 and ld > 0.6 and nv >= 0:\n",
    "        return 4\n",
    "\n",
    "    # Medium priority (3): around median–75th percentile\n",
    "    if sc >= 2 and wc >= 35 and awps >= 9 and ld > 0.575 and nv >= 0:\n",
    "        return 3\n",
    "\n",
    "    # Low-medium (2): above minimal substance (25th percentile)\n",
    "    if sc >= 2 and wc >= 17 and awps >= 7 and ld > 0.50 and nv > -.05:\n",
    "        return 2\n",
    "\n",
    "    # Low priority (1): everything else\n",
    "    return 1\n",
    "\n",
    "df['substantiveness_label'] = df.apply(assign_substantiveness_label, axis=1)\n",
    "print(df['substantiveness_label'].value_counts())"
   ],
   "id": "a79651d8d51d0c4f",
   "outputs": [
    {
     "name": "stdout",
     "output_type": "stream",
     "text": [
      "substantiveness_label\n",
      "1    354058\n",
      "3    332018\n",
      "2    325457\n",
      "5    315572\n",
      "4    306795\n",
      "Name: count, dtype: int64\n"
     ]
    }
   ],
   "execution_count": 102
  },
  {
   "metadata": {
    "ExecuteTime": {
     "end_time": "2025-07-24T08:01:31.044461Z",
     "start_time": "2025-07-24T08:01:16.559565Z"
    }
   },
   "cell_type": "code",
   "source": [
    "# Save the dataset with the new column\n",
    "output_path = f\"datasets/processed_and_labeled_for_training/goodreads_reviews_substantiveness.csv\"\n",
    "df.to_csv(output_path, index=False)\n",
    "print(f\"Saved dataset: {output_path}\")"
   ],
   "id": "96b53a60ee15e012",
   "outputs": [
    {
     "name": "stdout",
     "output_type": "stream",
     "text": [
      "Saved dataset: datasets/processed_and_labeled_for_training/goodreads_reviews_substantiveness.csv\n"
     ]
    }
   ],
   "execution_count": 103
  }
 ],
 "metadata": {
  "kernelspec": {
   "display_name": "Python 3",
   "language": "python",
   "name": "python3"
  },
  "language_info": {
   "codemirror_mode": {
    "name": "ipython",
    "version": 2
   },
   "file_extension": ".py",
   "mimetype": "text/x-python",
   "name": "python",
   "nbconvert_exporter": "python",
   "pygments_lexer": "ipython2",
   "version": "2.7.6"
  }
 },
 "nbformat": 4,
 "nbformat_minor": 5
}
